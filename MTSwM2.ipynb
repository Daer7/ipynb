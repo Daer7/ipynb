{
  "nbformat": 4,
  "nbformat_minor": 0,
  "metadata": {
    "colab": {
      "name": "MTSwM2.ipynb",
      "provenance": [],
      "collapsed_sections": [],
      "toc_visible": true
    },
    "kernelspec": {
      "name": "python3",
      "display_name": "Python 3"
    }
  },
  "cells": [
    {
      "cell_type": "code",
      "metadata": {
        "id": "9ryxPg4c8vUc",
        "outputId": "6cbb9852-0ef6-4c9a-8945-088a59950397",
        "colab": {
          "base_uri": "https://localhost:8080/"
        }
      },
      "source": [
        "from google.colab import drive\n",
        "drive.mount('/content/drive')"
      ],
      "execution_count": 1,
      "outputs": [
        {
          "output_type": "stream",
          "text": [
            "Drive already mounted at /content/drive; to attempt to forcibly remount, call drive.mount(\"/content/drive\", force_remount=True).\n"
          ],
          "name": "stdout"
        }
      ]
    },
    {
      "cell_type": "code",
      "metadata": {
        "id": "uSxYdNWPgU19"
      },
      "source": [
        "import math\n",
        "import numpy as np\n",
        "import matplotlib.pyplot as plt\n",
        "import matplotlib as mpl\n",
        "import pandas as pd\n",
        "from tabulate import tabulate\n",
        "from sklearn.base import clone, BaseEstimator, ClassifierMixin\n",
        "from sklearn.feature_selection import chi2, SelectKBest\n",
        "from sklearn.model_selection import train_test_split, RepeatedStratifiedKFold, StratifiedKFold\n",
        "from sklearn.metrics import accuracy_score\n",
        "from sklearn.naive_bayes import GaussianNB\n",
        "from sklearn.neighbors import KNeighborsClassifier\n",
        "from sklearn.tree import DecisionTreeClassifier\n",
        "from scipy.stats import ttest_ind"
      ],
      "execution_count": 2,
      "outputs": []
    },
    {
      "cell_type": "code",
      "metadata": {
        "id": "KD1unSx30uS-"
      },
      "source": [
        "def get_data(filename):\n",
        "  file = np.genfromtxt(filename, dtype='int32', delimiter=',')\n",
        "  row_mask = (file != -1).all(axis=1) #usunięcie próbek z wartościami -1 (brak wartości pewnej cechy w datasecie)\n",
        "  file = file[row_mask, :]\n",
        "  return file"
      ],
      "execution_count": 3,
      "outputs": []
    },
    {
      "cell_type": "code",
      "metadata": {
        "id": "T4SxpO7qk-2t"
      },
      "source": [
        "class GaussianNaiveBayesClassifier(BaseEstimator, ClassifierMixin):\n",
        "  def __init__(self):\n",
        "    pass\n",
        "\n",
        "  # liczymy prawdopodobienstwa a priori klas\n",
        "  def calculate_prior(self, y_train):\n",
        "    self.labels, self.counts = np.unique(y_train, return_counts=True)\n",
        "    probabilities = self.counts / np.sum(self.counts)\n",
        "    self.prior_probs = dict(zip(self.labels, probabilities))\n",
        "\n",
        "  # liczymy parametry rozkładów w klasach\n",
        "  def calculate_gaussian_parameters(self, X_train, y_train):\n",
        "    self.gauss_params = {}\n",
        "    num_of_features = X_train.shape[1]\n",
        "    for label in self.labels:\n",
        "      mean_std_for_features = []\n",
        "      for i in range(num_of_features):\n",
        "        class_indices = np.where(y_train == label)[0]\n",
        "        feature_values_for_class = X_train[class_indices, i]\n",
        "        mean_std_tuple = np.mean(feature_values_for_class), np.std(feature_values_for_class)\n",
        "        mean_std_for_features.append(mean_std_tuple)\n",
        "      self.gauss_params[label] = mean_std_for_features\n",
        "  \n",
        "  # dopasowanie modelu do danych treningowych\n",
        "  def fit(self, X_train, y_train):\n",
        "    self.calculate_prior(y_train)\n",
        "    self.calculate_gaussian_parameters(X_train, y_train)\n",
        "\n",
        "  def predict(self, X_test):\n",
        "    num_of_samples = X_test.shape[0]\n",
        "    num_of_features = X_test.shape[1]\n",
        "    self.predicted_labels = np.zeros(num_of_samples)\n",
        "    for number, sample in enumerate(X_test):\n",
        "      prediction = self.labels[0]\n",
        "      MAP_value = float('-inf')\n",
        "      for label in self.labels:\n",
        "        Bayes_log_sum = np.log(self.prior_probs[label]) - np.log(np.sqrt((2*np.pi)**num_of_features))\n",
        "        for i in range(num_of_features):\n",
        "          x=sample[i]\n",
        "          mean=self.gauss_params[label][i][0]\n",
        "          std=self.gauss_params[label][i][1]\n",
        "          Bayes_log_sum -= 0.5*((x-mean)/std)**2 + np.log(std)\n",
        "        \n",
        "        if(Bayes_log_sum > MAP_value):\n",
        "          MAP_value = Bayes_log_sum\n",
        "          prediction = label\n",
        "      \n",
        "      self.predicted_labels[number] = prediction\n",
        "    \n",
        "    return self.predicted_labels"
      ],
      "execution_count": 4,
      "outputs": []
    },
    {
      "cell_type": "code",
      "metadata": {
        "id": "M9YY0kaMhx5N"
      },
      "source": [
        "data = get_data(\"/content/drive/My Drive/Colab Notebooks/breast-cancer-wisconsin.txt\")\n",
        "X = data[:, 1:10] # macierz cech, bez id i klas\n",
        "y = data[:, 10]   # wektor klas\n",
        "\n",
        "# statystyki chi2 dla zbioru danych\n",
        "chi2vals, pvals = chi2(X, y)\n",
        "\n",
        "# porównanie zaimplementowanego klasyfikatora z bibliotecznym\n",
        "clfsGNB = {\n",
        "    'GNBC': GaussianNaiveBayesClassifier(),\n",
        "    'GNB_lib': GaussianNB()\n",
        "}\n",
        "X_sel  = SelectKBest(chi2, 5).fit_transform(X, y)\n",
        "rskf = RepeatedStratifiedKFold(n_splits=2, n_repeats=5, random_state=42)\n",
        "scores = np.zeros((len(clfsGNB), 10))\n",
        "\n",
        "for fold_id, (train_index, test_index) in enumerate(rskf.split(X_sel,y)):\n",
        "  X_train, X_test = X_sel[train_index], X_sel[test_index]\n",
        "  y_train, y_test = y[train_index], y[test_index]\n",
        "  for clf_id, clf_name in enumerate(clfsGNB):\n",
        "    clf = clone(clfsGNB[clf_name])\n",
        "    clf.fit(X_train, y_train)\n",
        "    y_pred = clf.predict(X_test)\n",
        "    scores[clf_id, fold_id] = accuracy_score(y_pred, y_test)\n",
        "np.save(\"/content/drive/My Drive/Colab Notebooks/GNBcomp\", scores)\n",
        "\n",
        "# słownik klasyfikatorów do testów statystycznych\n",
        "clfs = {\n",
        "    'GNBC': GaussianNaiveBayesClassifier(),\n",
        "    'kNN': KNeighborsClassifier(),\n",
        "    'CART': DecisionTreeClassifier(random_state=42),\n",
        "}\n",
        "\n",
        "#eksperymenty\n",
        "n_features = 9 # liczba cech\n",
        "n_splits = 2 # liczba foldów\n",
        "n_repeats = 5 # liczba powtórzeń\n",
        "rskf = RepeatedStratifiedKFold(n_splits=n_splits, n_repeats=n_repeats, random_state=2147483647)\n",
        "scores3D = np.zeros((n_features, len(clfs), n_splits*n_repeats))\n",
        "\n",
        "for k in range(1, n_features + 1):\n",
        "  X_k = SelectKBest(chi2, k).fit_transform(X, y) # wybór liczby badanych cech\n",
        "  for fold_id, (train_index, test_index) in enumerate(rskf.split(X_k, y)):\n",
        "    X_train, X_test = X_k[train_index], X_k[test_index]\n",
        "    y_train, y_test = y[train_index], y[test_index]\n",
        "    for clf_id, clf_name in enumerate(clfs):\n",
        "      clf = clone(clfs[clf_name])\n",
        "      clf.fit(X_train, y_train)\n",
        "      y_pred = clf.predict(X_test)\n",
        "      scores3D[k-1, clf_id, fold_id] = accuracy_score(y_test, y_pred)\n",
        "np.save(\"/content/drive/My Drive/Colab Notebooks/CLFScomp\", scores3D)"
      ],
      "execution_count": 5,
      "outputs": []
    },
    {
      "cell_type": "code",
      "metadata": {
        "id": "gRrYlT7uQQT2",
        "outputId": "398c07d4-8d07-45c6-f1ea-b900f1c93351",
        "colab": {
          "base_uri": "https://localhost:8080/"
        }
      },
      "source": [
        "header_partitions = [\"P1\", \"P2\", \"P3\", \"P4\", \"P5\", \"P6\", \"P7\", \"P8\", \"P9\", \"P10\"]\n",
        "bayes_clfs = np.array([[\"Own Bayes\"], [\"Library Bayes\"]])\n",
        "bayes_comp_table = np.concatenate((bayes_clfs, scores), axis=1)\n",
        "bayes_comp_table = tabulate(bayes_comp_table, header_partitions, floatfmt=\".3f\")\n",
        "print(\"Porównanie dokładności własnego i bibliotecznego GNB dla 10 podziałów zestawu danych przy 5 cechach\\n\", bayes_comp_table)"
      ],
      "execution_count": 6,
      "outputs": [
        {
          "output_type": "stream",
          "text": [
            "Porównanie dokładności własnego i bibliotecznego GNB dla 10 podziałów zestawu danych przy 5 cechach\n",
            "                   P1     P2     P3     P4     P5     P6     P7     P8     P9    P10\n",
            "-------------  -----  -----  -----  -----  -----  -----  -----  -----  -----  -----\n",
            "Own Bayes      0.962  0.956  0.953  0.959  0.965  0.956  0.956  0.965  0.959  0.962\n",
            "Library Bayes  0.962  0.956  0.953  0.959  0.965  0.956  0.956  0.965  0.959  0.962\n"
          ],
          "name": "stdout"
        }
      ]
    },
    {
      "cell_type": "code",
      "metadata": {
        "id": "dXDNzA0uJP9b",
        "outputId": "983a3e13-0e6a-4fd8-dc67-b1c7920ebb76",
        "colab": {
          "base_uri": "https://localhost:8080/"
        }
      },
      "source": [
        "scores_means =np.transpose(np.mean(scores3D, axis=2))\n",
        "scores_stds = np.transpose(np.std(scores3D, axis=2))\n",
        "header_features = [\"1\", \"2\", \"3\", \"4\", \"5\", \"6\", \"7\", \"8\", \"9\"]\n",
        "cols_clfs = np.array([[\"Bayes\"], [\"kNN\"], [\"CART\"]])\n",
        "scores_means_table = np.concatenate((cols_clfs, scores_means), axis=1)\n",
        "scores_means_table = tabulate(scores_means_table, header_features, floatfmt=\".3f\")\n",
        "scores_stds_table = np.concatenate((cols_clfs, scores_stds), axis=1)\n",
        "scores_stds_table = tabulate(scores_stds_table, header_features, floatfmt=\".3f\")\n",
        "print(\"Zestawienie wyników uzyskanych przez klasyfikatory w zależności od liczby cech\\n\\n\",\n",
        "      \"Średnia jakości klasyfikacji:\\n\", scores_means_table,\n",
        "      \"\\n\\nOdchylenie standardowe jakości klasyfikacji:\\n\", scores_stds_table)"
      ],
      "execution_count": 7,
      "outputs": [
        {
          "output_type": "stream",
          "text": [
            "Zestawienie wyników uzyskanych przez klasyfikatory w zależności od liczby cech\n",
            "\n",
            " Średnia jakości klasyfikacji:\n",
            "            1      2      3      4      5      6      7      8      9\n",
            "-----  -----  -----  -----  -----  -----  -----  -----  -----  -----\n",
            "Bayes  0.907  0.960  0.963  0.959  0.958  0.959  0.964  0.962  0.960\n",
            "kNN    0.900  0.956  0.957  0.963  0.960  0.957  0.966  0.966  0.967\n",
            "CART   0.909  0.947  0.944  0.947  0.943  0.942  0.946  0.949  0.945 \n",
            "\n",
            "Odchylenie standardowe jakości klasyfikacji:\n",
            "            1      2      3      4      5      6      7      8      9\n",
            "-----  -----  -----  -----  -----  -----  -----  -----  -----  -----\n",
            "Bayes  0.015  0.009  0.009  0.005  0.006  0.006  0.005  0.006  0.005\n",
            "kNN    0.012  0.010  0.011  0.009  0.010  0.009  0.009  0.007  0.008\n",
            "CART   0.011  0.011  0.013  0.008  0.010  0.010  0.014  0.012  0.013\n"
          ],
          "name": "stdout"
        }
      ]
    },
    {
      "cell_type": "code",
      "metadata": {
        "id": "yzkWLl7BJ1g1",
        "outputId": "adced4d8-3c10-4ff1-d8de-0b554da00e7c",
        "colab": {
          "base_uri": "https://localhost:8080/"
        }
      },
      "source": [
        "scoresTTest = scores3D[6] # 7 cech daje najlepszą dokładność klasyfikacji; wybieramy odpowiednie foldy\n",
        "print(scoresTTest)"
      ],
      "execution_count": 8,
      "outputs": [
        {
          "output_type": "stream",
          "text": [
            "[[0.9619883  0.96774194 0.95614035 0.96774194 0.97076023 0.96187683\n",
            "  0.96783626 0.96480938 0.95614035 0.96774194]\n",
            " [0.97076023 0.95601173 0.96491228 0.97360704 0.97076023 0.97067449\n",
            "  0.97368421 0.95307918 0.9502924  0.97360704]\n",
            " [0.9502924  0.95307918 0.93859649 0.94428152 0.96491228 0.95601173\n",
            "  0.94736842 0.93548387 0.9122807  0.95601173]]\n"
          ],
          "name": "stdout"
        }
      ]
    },
    {
      "cell_type": "code",
      "metadata": {
        "id": "8YhrqapWM3iE",
        "outputId": "828568e3-9dda-44db-9b21-d2111cce00ba",
        "colab": {
          "base_uri": "https://localhost:8080/"
        }
      },
      "source": [
        "alpha = .05\n",
        "t_statistic = np.zeros((len(clfs), len(clfs)))\n",
        "p_value = np.zeros((len(clfs), len(clfs)))\n",
        "\n",
        "for i in range(len(clfs)):\n",
        "  for j in range(len(clfs)):\n",
        "    t_statistic[i, j], p_value[i, j] = ttest_ind(scoresTTest[i], scoresTTest[j])\n",
        "\n",
        "# t-statystyka oraz p-wartości\n",
        "header_clfs = [\"Bayes\", \"kNN\", \"CART\"]\n",
        "col_clfs = np.array([[\"Bayes\"], [\"kNN\"], [\"CART\"]])\n",
        "t_statistic_table = np.concatenate((col_clfs, t_statistic), axis=1)\n",
        "t_statistic_table = tabulate(t_statistic_table, header_clfs, floatfmt=\".3f\")\n",
        "p_value_table = np.concatenate((col_clfs, p_value), axis=1)\n",
        "p_value_table = tabulate(p_value_table, header_clfs, floatfmt=\".3f\")\n",
        "print(\"t-statistic:\\n\", t_statistic_table, \"\\n\\np-value:\\n\", p_value_table)\n",
        "\n",
        "# macierz przewagi - który z pary osiągnął lepszą jakość klasyfikacji\n",
        "advantage = np.zeros((len(clfs), len(clfs)))\n",
        "advantage[t_statistic > 0] = 1\n",
        "advantage_table = tabulate(np.concatenate((col_clfs, advantage), axis=1), header_clfs)\n",
        "print(\"\\nAdvantage:\\n\", advantage_table)\n",
        "\n",
        "# różnice statystycznie znaczące - macierz istotności\n",
        "# H0 - między klasyfikatorami nie ma istotnej różnicy statystycznej\n",
        "# p-value <= alpha - odrzucamy H0\n",
        "significance = np.zeros((len(clfs), len(clfs)))\n",
        "significance[p_value <= alpha] = 1\n",
        "significance_table = tabulate(np.concatenate((col_clfs, significance), axis=1), header_clfs)\n",
        "print(\"\\nStatistical significance (alpha = 0.05):\\n\", significance_table)\n",
        "\n",
        "# statystycznie znacząco lepsze klasyfikatory\n",
        "statistically_better = advantage * significance\n",
        "statistically_better_table = tabulate(np.concatenate((cols_clfs, statistically_better), axis=1), header_clfs)\n",
        "print(\"\\nStatistically significantly better:\\n\", statistically_better_table)"
      ],
      "execution_count": 19,
      "outputs": [
        {
          "output_type": "stream",
          "text": [
            "t-statistic:\n",
            "          Bayes     kNN    CART\n",
            "-----  -------  ------  ------\n",
            "Bayes    0.000  -0.440   3.758\n",
            "kNN      0.440   0.000   3.642\n",
            "CART    -3.758  -3.642   0.000 \n",
            "\n",
            "p-value:\n",
            "          Bayes    kNN    CART\n",
            "-----  -------  -----  ------\n",
            "Bayes    1.000  0.665   0.001\n",
            "kNN      0.665  1.000   0.002\n",
            "CART     0.001  0.002   1.000\n",
            "\n",
            "Advantage:\n",
            "          Bayes    kNN    CART\n",
            "-----  -------  -----  ------\n",
            "Bayes        0      0       1\n",
            "kNN          1      0       1\n",
            "CART         0      0       0\n",
            "\n",
            "Statistical significance (alpha = 0.05):\n",
            "          Bayes    kNN    CART\n",
            "-----  -------  -----  ------\n",
            "Bayes        0      0       1\n",
            "kNN          0      0       1\n",
            "CART         1      1       0\n",
            "\n",
            "Statistically significantly better:\n",
            "          Bayes    kNN    CART\n",
            "-----  -------  -----  ------\n",
            "Bayes        0      0       1\n",
            "kNN          0      0       1\n",
            "CART         0      0       0\n"
          ],
          "name": "stdout"
        }
      ]
    },
    {
      "cell_type": "code",
      "metadata": {
        "id": "53BpIB1F0YYv"
      },
      "source": [
        ""
      ],
      "execution_count": null,
      "outputs": []
    }
  ]
}