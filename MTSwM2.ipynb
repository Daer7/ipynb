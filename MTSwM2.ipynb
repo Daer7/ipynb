{
  "nbformat": 4,
  "nbformat_minor": 0,
  "metadata": {
    "colab": {
      "name": "MTSwM2.ipynb",
      "provenance": [],
      "collapsed_sections": [],
      "toc_visible": true
    },
    "kernelspec": {
      "name": "python3",
      "display_name": "Python 3"
    }
  },
  "cells": [
    {
      "cell_type": "code",
      "metadata": {
        "id": "9ryxPg4c8vUc",
        "outputId": "64da2352-322b-475d-c2e6-1b970a17d9ca",
        "colab": {
          "base_uri": "https://localhost:8080/"
        }
      },
      "source": [
        "from google.colab import drive\n",
        "drive.mount('/content/drive')"
      ],
      "execution_count": 1,
      "outputs": [
        {
          "output_type": "stream",
          "text": [
            "Mounted at /content/drive\n"
          ],
          "name": "stdout"
        }
      ]
    },
    {
      "cell_type": "code",
      "metadata": {
        "id": "uSxYdNWPgU19"
      },
      "source": [
        "import math\n",
        "import numpy as np\n",
        "import matplotlib.pyplot as plt\n",
        "import matplotlib as mpl\n",
        "import pandas as pd\n",
        "from sklearn.feature_selection import chi2\n",
        "from sklearn.feature_selection import SelectKBest\n",
        "from sklearn.model_selection import train_test_split\n",
        "from sklearn.metrics import accuracy_score"
      ],
      "execution_count": 19,
      "outputs": []
    },
    {
      "cell_type": "code",
      "metadata": {
        "id": "KD1unSx30uS-"
      },
      "source": [
        "def get_data(filename):\n",
        "  file = np.genfromtxt(filename, dtype='int32', delimiter=',')\n",
        "  row_mask = (file != -1).all(axis=1) #usunięcie próbek z wartościami -1 (brak wartości pewnej cechy w datasecie)\n",
        "  file = file[row_mask, :]\n",
        "  return file"
      ],
      "execution_count": 20,
      "outputs": []
    },
    {
      "cell_type": "code",
      "metadata": {
        "id": "fx8CobMC35R1"
      },
      "source": [
        "def compute_chi2_stats(X, y):\n",
        "  chi2vals, pvals = chi2(X, y)\n",
        "  return chi2vals, pvals"
      ],
      "execution_count": 21,
      "outputs": []
    },
    {
      "cell_type": "code",
      "metadata": {
        "id": "mWvPQ1C5Hep4"
      },
      "source": [
        "def select_k_best_via_chi2(k, X, y):\n",
        "  X = SelectKBest(chi2, k).fit_transform(X, y)\n",
        "  return X"
      ],
      "execution_count": 22,
      "outputs": []
    },
    {
      "cell_type": "code",
      "metadata": {
        "id": "I7Dc_gJcti7O"
      },
      "source": [
        "def do_cross_validation(X, y, state): #do zmiany\n",
        "  X_train, X_test, y_train, y_test = train_test_split(X, y, test_size=0.5, random_state=state)\n",
        "  return X_train, X_test, y_train, y_test"
      ],
      "execution_count": 23,
      "outputs": []
    },
    {
      "cell_type": "code",
      "metadata": {
        "id": "iEFYJrGDpR3v"
      },
      "source": [
        "def LCG(arg): # linear congruential generator\n",
        "  return (187668917 * arg + 11767183) % 2147483647\n",
        "def get_next_random(arg=0, depth=0):\n",
        "  if depth == 0:\n",
        "    return LCG(arg)\n",
        "  return get_next_random(LCG(arg), depth - 1)"
      ],
      "execution_count": 24,
      "outputs": []
    },
    {
      "cell_type": "code",
      "metadata": {
        "id": "BSJyonL0LGTc"
      },
      "source": [
        "def do_nth_cross_validation(X, y, n):\n",
        "  X_train, X_test, y_train, y_test = do_cross_validation(X, y, get_next_random(42, n))\n",
        "  return X_train, X_test, y_train, y_test"
      ],
      "execution_count": 25,
      "outputs": []
    },
    {
      "cell_type": "code",
      "metadata": {
        "id": "T4SxpO7qk-2t"
      },
      "source": [
        "class NaiveBayesClassifier():\n",
        "  def __init__(self):\n",
        "    pass\n",
        "\n",
        "  # liczymy prawdopodobienstwa a priori klas\n",
        "  def calculate_prior(self, y_train):\n",
        "    self.labels, self.counts = np.unique(y_train, return_counts=True)\n",
        "    probabilities = self.counts / np.sum(self.counts)\n",
        "    self.prior_probs = dict(zip(self.labels, probabilities))\n",
        "\n",
        "  # liczymy parametry rozkładów w klasach\n",
        "  def calculate_gaussian_parameters(self, X_train, y_train):\n",
        "    self.gauss_params = {}\n",
        "    for label in self.labels:\n",
        "      mean_std_for_features = []\n",
        "      for feature in range(X_train.shape[1]):\n",
        "        class_indices = np.where(y_train == label)[0]\n",
        "        feature_values_for_class = X_train[class_indices, feature]\n",
        "        mean_std_tuple = np.mean(feature_values_for_class), np.std(feature_values_for_class)\n",
        "        mean_std_for_features.append(mean_std_tuple)\n",
        "      self.gauss_params[label] = mean_std_for_features\n",
        "  \n",
        "  # dopasowanie modelu do danych treningowych\n",
        "  def fit(self, X_train, y_train):\n",
        "    self.calculate_prior(y_train)\n",
        "    self.calculate_gaussian_parameters(X_train, y_train)\n",
        "\n",
        "  def predict(self, X_test):\n",
        "    self.predicted_labels = np.zeros(X_test.shape[0])\n",
        "    for sample in X_train:\n",
        "      prediction = self.labels[0]\n",
        "      MAP_value = -1\n",
        "      for label in self.labels:\n",
        "        Bayes_product = prior_probs[label]\n",
        "        for i in range(len(feature)):\n",
        "          Bayes_product *= \n",
        "\n"
      ],
      "execution_count": 26,
      "outputs": []
    },
    {
      "cell_type": "code",
      "metadata": {
        "id": "M9YY0kaMhx5N",
        "outputId": "59d3ce60-4114-4973-92f2-3ee48ea1ba25",
        "colab": {
          "base_uri": "https://localhost:8080/"
        }
      },
      "source": [
        "data = get_data(\"/content/drive/My Drive/Colab Notebooks/breast-cancer-wisconsin.txt\")\n",
        "X = data[:, 1:10] # macierz cech, bez id i klas\n",
        "y = data[:, 10]   # wektor klas\n",
        "chi2val, pval = compute_chi2_stats(X, y) \n",
        "print(chi2val)\n",
        "X_new  = select_k_best_via_chi2(5, X, y)\n",
        "X_train, X_test, y_train, y_test = do_nth_cross_validation(X_new, y, 5)\n",
        "\n",
        "NBC = NaiveBayesClassifier()\n",
        "NBC.fit(X_train, y_train)\n",
        "print(NBC.gaussian_parameters_for_classes)"
      ],
      "execution_count": 27,
      "outputs": [
        {
          "output_type": "stream",
          "text": [
            "[ 624.13570418 1370.06458731 1279.76770412  986.41787922  497.53676321\n",
            " 1729.0661744   682.97823856 1143.8667119   228.99434634]\n",
            "{2: [(1.3179723502304148, 0.8826539051554588), (1.3963133640552996, 0.9882187361442625), (1.336405529953917, 0.9940894365678004), (1.3870967741935485, 1.2870927318232261), (1.2764976958525345, 0.9729288251679139)], 4: [(6.274193548387097, 2.7425521128268975), (6.346774193548387, 2.642836803203384), (5.620967741935484, 3.303450644439802), (7.451612903225806, 3.275901350255788), (5.653225806451613, 3.3769721951884595)]}\n"
          ],
          "name": "stdout"
        }
      ]
    },
    {
      "cell_type": "code",
      "metadata": {
        "id": "LFO9FW1znn_u",
        "outputId": "bf076a27-d0e0-45c5-b3c7-afc9ba863e67",
        "colab": {
          "base_uri": "https://localhost:8080/"
        }
      },
      "source": [
        "for i in range(5):\n",
        "  X_train, X_test, y_train, y_test = do_nth_cross_validation(X, y, i)\n",
        "  print(X_train)\n",
        "  print(y_train)"
      ],
      "execution_count": 11,
      "outputs": [
        {
          "output_type": "stream",
          "text": [
            "[[ 4  1  1 ...  2  1  1]\n",
            " [ 1  1  1 ...  5  1  1]\n",
            " [ 5  7  4 ...  7 10  3]\n",
            " ...\n",
            " [ 1  1  1 ...  3  1  1]\n",
            " [ 4  1  1 ...  2  1  1]\n",
            " [ 3  1  1 ...  2  1  1]]\n",
            "[2 2 4 2 2 2 2 4 2 4 2 2 4 2 2 2 4 2 4 2 2 4 2 2 4 2 2 4 2 4 4 2 2 2 2 4 2\n",
            " 2 2 2 2 2 2 4 4 2 2 2 2 4 2 2 4 2 4 4 4 4 2 4 4 4 4 2 4 2 2 4 4 2 4 2 2 4\n",
            " 2 2 2 2 2 2 4 4 2 2 2 2 2 2 2 2 2 2 2 4 2 2 2 4 4 2 2 4 2 4 2 2 2 2 4 2 2\n",
            " 4 2 4 4 2 4 2 2 4 2 2 4 2 4 2 2 2 4 2 2 2 2 4 4 4 4 4 4 2 2 2 2 2 4 2 2 2\n",
            " 2 4 4 2 2 4 2 4 4 4 2 4 2 2 4 4 4 2 4 2 2 2 2 2 2 2 2 2 2 4 2 4 2 4 4 4 2\n",
            " 4 4 2 4 2 2 2 4 4 2 4 2 2 2 4 2 2 4 4 2 2 4 2 2 4 2 2 2 4 4 4 2 4 2 2 2 2\n",
            " 2 4 2 2 2 2 2 2 2 4 2 4 2 4 2 2 4 2 2 4 2 2 4 2 2 4 4 4 2 4 4 2 4 2 2 2 2\n",
            " 2 2 4 2 4 2 2 4 2 2 2 4 2 4 4 2 4 2 2 4 2 2 4 2 4 2 2 4 2 2 2 2 4 4 4 2 4\n",
            " 2 2 2 2 2 2 2 2 4 2 2 4 4 4 4 2 2 4 4 2 4 2 2 2 2 2 2 4 2 4 2 2 2 2 4 4 2\n",
            " 4 4 2 2 2 2 2 2]\n",
            "[[ 3  1  1 ...  1  1  1]\n",
            " [ 1  4  3 ...  5  6  1]\n",
            " [10  4  7 ...  6  1  1]\n",
            " ...\n",
            " [ 1  1  1 ...  3  1  1]\n",
            " [ 1  2  2 ...  1  1  1]\n",
            " [ 3  1  1 ...  5  8  1]]\n",
            "[2 4 4 2 2 2 4 2 4 2 4 2 2 2 4 4 4 2 4 2 2 2 2 2 2 2 2 2 2 2 4 2 2 2 4 2 4\n",
            " 4 2 2 2 2 2 4 4 4 4 4 4 2 2 2 2 4 2 2 2 2 2 4 4 4 2 2 2 2 4 2 4 2 2 2 4 2\n",
            " 2 4 4 2 2 2 2 2 2 2 2 2 2 4 2 4 2 2 2 4 4 2 4 2 4 2 2 2 2 2 4 2 4 2 2 4 2\n",
            " 2 4 2 2 4 2 2 2 4 2 4 2 4 2 2 2 2 2 2 4 4 4 4 2 2 2 2 2 4 2 2 2 4 4 4 4 4\n",
            " 2 2 2 4 4 2 4 4 2 4 2 2 2 4 2 2 2 2 4 2 4 4 2 4 2 2 2 4 2 4 2 2 2 2 2 2 2\n",
            " 2 2 4 2 2 4 2 4 2 4 4 2 4 2 2 2 2 4 2 4 4 2 2 4 2 2 4 2 2 2 2 2 2 2 4 4 2\n",
            " 2 2 4 2 2 2 2 4 2 2 2 2 4 2 2 4 2 2 2 2 2 4 2 2 4 2 4 4 4 2 4 4 4 4 4 4 2\n",
            " 2 2 4 2 2 4 2 2 2 4 2 2 2 4 2 4 4 4 2 2 2 4 4 4 2 2 4 4 2 2 2 2 4 4 2 2 4\n",
            " 4 2 4 4 2 2 2 4 2 4 2 2 2 2 4 2 2 2 4 2 4 2 2 4 2 4 2 2 4 2 2 2 4 2 4 2 2\n",
            " 2 2 2 4 2 2 2 2]\n",
            "[[5 2 3 ... 3 6 1]\n",
            " [3 1 1 ... 1 1 1]\n",
            " [2 1 1 ... 2 1 1]\n",
            " ...\n",
            " [1 1 3 ... 1 1 1]\n",
            " [6 9 7 ... 4 2 1]\n",
            " [1 1 1 ... 3 1 1]]\n",
            "[4 2 2 2 2 4 4 2 2 4 2 4 2 4 2 4 4 4 2 4 2 4 4 4 4 2 4 2 2 2 2 4 2 2 4 2 2\n",
            " 2 4 2 4 4 2 4 4 4 4 2 4 4 4 2 4 2 2 4 2 4 4 4 2 4 2 2 2 2 2 2 2 2 2 4 2 4\n",
            " 2 4 4 2 2 2 4 2 2 2 2 2 2 2 2 2 2 2 2 2 4 2 2 4 4 2 2 2 2 2 4 2 4 4 2 4 4\n",
            " 4 2 2 4 2 4 2 2 2 4 2 4 4 4 2 2 4 4 2 4 4 2 2 4 2 2 2 2 4 2 2 4 2 2 2 4 2\n",
            " 2 2 4 4 2 2 4 2 4 2 2 2 2 2 2 2 2 4 2 2 2 2 2 4 2 2 2 2 4 4 2 4 4 4 4 4 4\n",
            " 2 2 4 2 2 2 2 2 2 2 4 2 2 2 2 2 4 2 2 2 4 2 4 2 2 2 2 2 4 2 4 4 2 2 2 4 4\n",
            " 2 4 2 2 2 2 4 2 2 4 4 2 4 2 2 2 2 2 4 2 2 4 4 2 4 2 2 2 2 2 4 2 2 2 2 2 4\n",
            " 2 4 2 4 2 2 2 4 2 2 2 2 2 4 2 4 2 2 2 4 4 2 4 2 2 2 2 4 2 4 4 4 2 2 2 2 2\n",
            " 4 2 2 2 2 2 2 4 2 4 2 2 2 2 2 2 4 2 4 4 2 2 2 2 2 2 4 2 2 2 4 2 2 2 2 4 2\n",
            " 2 2 4 2 2 2 2 2]\n",
            "[[ 2  1  1 ...  2  1  1]\n",
            " [ 3  1  1 ...  2  1  1]\n",
            " [ 3  6  6 ...  6  8  3]\n",
            " ...\n",
            " [ 3  1  1 ...  2  1  1]\n",
            " [ 5  7 10 ...  7  5  1]\n",
            " [ 3  1  1 ...  1  1  1]]\n",
            "[2 2 4 2 2 2 2 2 2 2 4 2 4 4 2 2 4 2 2 2 2 2 4 2 2 4 2 4 2 4 4 2 4 4 2 2 4\n",
            " 2 2 4 2 2 4 2 2 4 4 2 2 2 2 4 4 2 2 2 2 4 4 4 2 2 2 2 2 4 2 2 4 4 2 2 2 2\n",
            " 4 2 4 2 4 4 4 4 2 2 2 4 2 4 4 2 2 2 2 4 2 4 2 4 2 2 4 4 2 2 4 4 2 2 2 4 4\n",
            " 2 4 4 4 2 2 4 4 4 2 4 2 4 4 4 4 4 2 4 2 4 2 4 2 2 2 2 4 2 2 2 4 2 4 2 2 2\n",
            " 2 4 4 2 2 4 2 2 2 2 2 2 2 2 4 2 4 2 2 2 2 2 2 4 2 2 2 2 2 2 4 2 2 2 2 2 2\n",
            " 4 4 2 4 4 2 2 4 4 2 4 2 4 4 2 4 2 2 2 4 2 4 2 4 2 4 2 4 4 4 2 2 2 2 2 4 2\n",
            " 4 2 2 2 2 2 2 4 2 2 4 4 2 2 2 2 4 2 4 2 2 2 2 2 4 2 4 4 2 4 4 2 2 2 2 2 4\n",
            " 2 2 2 2 4 2 4 4 2 2 4 4 2 2 2 2 2 2 2 2 2 2 2 4 4 2 2 2 4 2 2 2 2 4 2 4 2\n",
            " 2 4 2 4 2 2 2 4 2 2 2 4 4 2 4 2 2 4 2 2 4 2 2 4 2 2 2 4 4 4 4 2 4 2 2 2 2\n",
            " 2 2 2 2 2 2 4 2]\n",
            "[[3 1 1 ... 2 1 1]\n",
            " [2 1 1 ... 2 1 1]\n",
            " [3 4 5 ... 4 1 1]\n",
            " ...\n",
            " [8 7 5 ... 5 5 4]\n",
            " [2 5 7 ... 7 6 1]\n",
            " [1 1 1 ... 1 1 1]]\n",
            "[2 2 4 4 2 2 2 4 2 2 4 2 2 2 4 2 2 4 2 2 2 4 2 4 2 2 4 2 2 4 2 4 2 4 4 2 2\n",
            " 2 4 4 2 4 2 2 4 2 2 2 4 2 2 2 4 2 2 2 4 4 2 2 4 4 2 2 2 2 4 4 2 2 4 2 4 2\n",
            " 4 4 4 2 4 2 4 2 2 2 4 4 2 2 2 2 2 4 4 2 2 2 2 4 4 4 2 2 4 4 2 2 4 2 4 2 4\n",
            " 2 2 4 2 2 2 4 2 2 2 2 4 2 2 2 2 4 2 2 2 4 2 2 4 4 2 2 2 2 2 2 2 4 2 4 2 2\n",
            " 2 2 4 2 2 4 4 2 2 4 4 2 2 2 2 2 2 2 2 2 4 4 4 4 2 4 2 2 2 2 4 2 2 4 2 4 2\n",
            " 4 4 2 2 2 4 2 2 2 4 2 2 4 2 4 2 2 4 2 2 4 2 2 2 2 2 2 2 4 2 2 2 4 2 2 4 2\n",
            " 2 2 2 2 2 2 2 4 2 2 4 2 4 4 2 4 2 4 4 2 4 2 2 2 2 4 2 4 4 2 2 2 2 2 2 2 2\n",
            " 2 4 4 4 2 2 2 2 2 2 2 2 2 2 2 2 2 2 2 2 2 2 4 4 4 2 4 4 4 4 4 4 2 2 2 4 2\n",
            " 2 4 2 2 2 2 2 2 2 4 2 2 4 4 2 4 2 4 2 4 2 2 2 4 4 2 2 2 4 4 2 2 2 2 2 4 2\n",
            " 4 2 2 2 2 4 4 2]\n"
          ],
          "name": "stdout"
        }
      ]
    },
    {
      "cell_type": "code",
      "metadata": {
        "id": "Xd1211qOzIK_"
      },
      "source": [
        "Z = np.array([1,2,1])\n",
        "ind = np.where(Z==2)"
      ],
      "execution_count": 12,
      "outputs": []
    },
    {
      "cell_type": "code",
      "metadata": {
        "id": "rGGWju_T5Xa4"
      },
      "source": [
        "ZZ = np.array([[4, 5, 6], [7,8,9], [10,11, 12]])"
      ],
      "execution_count": 13,
      "outputs": []
    },
    {
      "cell_type": "code",
      "metadata": {
        "id": "4uuANqpF64qG",
        "outputId": "e84909f2-c110-4d32-c73c-4d8410324ba9",
        "colab": {
          "base_uri": "https://localhost:8080/"
        }
      },
      "source": [
        "ZZ[1, :]"
      ],
      "execution_count": 14,
      "outputs": [
        {
          "output_type": "execute_result",
          "data": {
            "text/plain": [
              "array([7, 8, 9])"
            ]
          },
          "metadata": {
            "tags": []
          },
          "execution_count": 14
        }
      ]
    },
    {
      "cell_type": "code",
      "metadata": {
        "id": "X90rzJ0I6iOE",
        "outputId": "8392fe6c-7c19-411a-d195-636b6cf3523b",
        "colab": {
          "base_uri": "https://localhost:8080/"
        }
      },
      "source": [
        "Zsel = ZZ[0:2, 2]\n",
        "Zsel.shape"
      ],
      "execution_count": 15,
      "outputs": [
        {
          "output_type": "execute_result",
          "data": {
            "text/plain": [
              "(2,)"
            ]
          },
          "metadata": {
            "tags": []
          },
          "execution_count": 15
        }
      ]
    },
    {
      "cell_type": "code",
      "metadata": {
        "id": "HM6y_ukx7T6j"
      },
      "source": [
        "indices =np.where(Z == 1)[0]"
      ],
      "execution_count": 16,
      "outputs": []
    },
    {
      "cell_type": "code",
      "metadata": {
        "id": "N_pQoLy79kqN",
        "outputId": "ed2ac929-eed0-485e-e927-299754982ba3",
        "colab": {
          "base_uri": "https://localhost:8080/"
        }
      },
      "source": [
        "ZZ[indices, 1].shape"
      ],
      "execution_count": 17,
      "outputs": [
        {
          "output_type": "execute_result",
          "data": {
            "text/plain": [
              "(2,)"
            ]
          },
          "metadata": {
            "tags": []
          },
          "execution_count": 17
        }
      ]
    },
    {
      "cell_type": "code",
      "metadata": {
        "id": "ckrxG94bfVlM"
      },
      "source": [
        ""
      ],
      "execution_count": null,
      "outputs": []
    }
  ]
}