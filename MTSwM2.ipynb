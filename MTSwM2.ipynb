{
  "nbformat": 4,
  "nbformat_minor": 0,
  "metadata": {
    "colab": {
      "name": "MTSwM2.ipynb",
      "provenance": [],
      "collapsed_sections": [],
      "toc_visible": true
    },
    "kernelspec": {
      "name": "python3",
      "display_name": "Python 3"
    }
  },
  "cells": [
    {
      "cell_type": "code",
      "metadata": {
        "id": "9ryxPg4c8vUc",
        "outputId": "4b165d45-0d0b-4739-a5e6-38ab98e011e1",
        "colab": {
          "base_uri": "https://localhost:8080/"
        }
      },
      "source": [
        "from google.colab import drive\n",
        "drive.mount('/content/drive')"
      ],
      "execution_count": 32,
      "outputs": [
        {
          "output_type": "stream",
          "text": [
            "Drive already mounted at /content/drive; to attempt to forcibly remount, call drive.mount(\"/content/drive\", force_remount=True).\n"
          ],
          "name": "stdout"
        }
      ]
    },
    {
      "cell_type": "code",
      "metadata": {
        "id": "uSxYdNWPgU19"
      },
      "source": [
        "import math\n",
        "import numpy as np\n",
        "import matplotlib.pyplot as plt\n",
        "import matplotlib as mpl\n",
        "import pandas as pd\n",
        "from sklearn.feature_selection import chi2\n",
        "from sklearn.feature_selection import SelectKBest\n",
        "from sklearn.model_selection import train_test_split\n",
        "from sklearn.metrics import accuracy_score"
      ],
      "execution_count": 33,
      "outputs": []
    },
    {
      "cell_type": "code",
      "metadata": {
        "id": "KD1unSx30uS-"
      },
      "source": [
        "def get_data(filename):\n",
        "  file = np.genfromtxt(filename, dtype='int32', delimiter=',')\n",
        "  row_mask = (file != -1).all(axis=1) #usunięcie próbek z wartościami -1 (brak wartości pewnej cechy w datasecie)\n",
        "  file = file[row_mask, :]\n",
        "  return file"
      ],
      "execution_count": 34,
      "outputs": []
    },
    {
      "cell_type": "code",
      "metadata": {
        "id": "fx8CobMC35R1"
      },
      "source": [
        "def compute_chi2_stats(X, y):\n",
        "  chi2vals, pvals = chi2(X, y)\n",
        "  return chi2vals, pvals"
      ],
      "execution_count": 35,
      "outputs": []
    },
    {
      "cell_type": "code",
      "metadata": {
        "id": "mWvPQ1C5Hep4"
      },
      "source": [
        "def select_k_best_via_chi2(k, X, y):\n",
        "  X = SelectKBest(chi2, k).fit_transform(X, y)\n",
        "  return X"
      ],
      "execution_count": 36,
      "outputs": []
    },
    {
      "cell_type": "code",
      "metadata": {
        "id": "I7Dc_gJcti7O"
      },
      "source": [
        "def do_cross_validation(X, y, state): #do zmiany\n",
        "  X_train, X_test, y_train, y_test = train_test_split(X, y, test_size=0.5, random_state=state)\n",
        "  return X_train, X_test, y_train, y_test"
      ],
      "execution_count": 37,
      "outputs": []
    },
    {
      "cell_type": "code",
      "metadata": {
        "id": "iEFYJrGDpR3v"
      },
      "source": [
        "def LCG(arg): # linear congruential generator\n",
        "  return (187668917 * arg + 11767183) % 2147483647\n",
        "def get_next_random(arg=0, depth=0):\n",
        "  if depth == 0:\n",
        "    return LCG(arg)\n",
        "  return get_next_random(LCG(arg), depth - 1)"
      ],
      "execution_count": 38,
      "outputs": []
    },
    {
      "cell_type": "code",
      "metadata": {
        "id": "BSJyonL0LGTc"
      },
      "source": [
        "def do_nth_cross_validation(X, y, n):\n",
        "  X_train, X_test, y_train, y_test = do_cross_validation(X, y, get_next_random(42, n))\n",
        "  return X_train, X_test, y_train, y_test"
      ],
      "execution_count": 39,
      "outputs": []
    },
    {
      "cell_type": "code",
      "metadata": {
        "id": "T4SxpO7qk-2t",
        "outputId": "34eaa1aa-72c5-43c1-a118-883aeee7a565",
        "colab": {
          "base_uri": "https://localhost:8080/",
          "height": 132
        }
      },
      "source": [
        "class NaiveBayesClassifier():\n",
        "  def __init__(self):\n",
        "    pass\n",
        "\n",
        "  # liczymy prawdopodobienstwa a priori klas\n",
        "  def calculate_prior(self, y_train):\n",
        "    self.labels, self.counts = np.unique(y_train, return_counts=True)\n",
        "    probabilities = self.counts / np.sum(self.counts)\n",
        "    self.prior_probs = dict(zip(self.labels, probabilities))\n",
        "\n",
        "  # liczymy parametry rozkładów w klasach\n",
        "  def calculate_gaussian_parameters(self, X_train, y_train):\n",
        "    self.gauss_params = {}\n",
        "    for label in self.labels:\n",
        "      mean_std_for_features = []\n",
        "      for feature in range(X_train.shape[1]):\n",
        "        class_indices = np.where(y_train == label)[0]\n",
        "        feature_values_for_class = X_train[class_indices, feature]\n",
        "        mean_std_tuple = np.mean(feature_values_for_class), np.std(feature_values_for_class)\n",
        "        mean_std_for_features.append(mean_std_tuple)\n",
        "      self.gauss_params[label] = mean_std_for_features\n",
        "  \n",
        "  # dopasowanie modelu do danych treningowych\n",
        "  def fit(self, X_train, y_train):\n",
        "    self.calculate_prior(y_train)\n",
        "    self.calculate_gaussian_parameters(X_train, y_train)\n",
        "\n",
        "  def predict(self, X_test):\n",
        "    self.predicted_labels = np.zeros(X_test.shape[0])\n",
        "    for sample in X_train:\n",
        "      prediction = self.labels[0]\n",
        "      MAP_value = -1\n",
        "      for label in self.labels:\n",
        "        Bayes_product = prior_probs[label]\n",
        "        for i in range(len(feature)):\n",
        "          Bayes_product *= \n",
        "\n"
      ],
      "execution_count": 40,
      "outputs": [
        {
          "output_type": "error",
          "ename": "SyntaxError",
          "evalue": "ignored",
          "traceback": [
            "\u001b[0;36m  File \u001b[0;32m\"<ipython-input-40-2f79423d0ba0>\"\u001b[0;36m, line \u001b[0;32m36\u001b[0m\n\u001b[0;31m    Bayes_product *=\u001b[0m\n\u001b[0m                     ^\u001b[0m\n\u001b[0;31mSyntaxError\u001b[0m\u001b[0;31m:\u001b[0m invalid syntax\n"
          ]
        }
      ]
    },
    {
      "cell_type": "code",
      "metadata": {
        "id": "M9YY0kaMhx5N"
      },
      "source": [
        "data = get_data(\"/content/drive/My Drive/Colab Notebooks/breast-cancer-wisconsin.txt\")\n",
        "X = data[:, 1:10] # macierz cech, bez id i klas\n",
        "y = data[:, 10]   # wektor klas\n",
        "chi2val, pval = compute_chi2_stats(X, y) \n",
        "print(chi2val)\n",
        "X_new  = select_k_best_via_chi2(5, X, y)\n",
        "X_train, X_test, y_train, y_test = do_nth_cross_validation(X_new, y, 5)\n",
        "\n",
        "NBC = NaiveBayesClassifier()\n",
        "NBC.fit(X_train, y_train)\n",
        "print(NBC.gaussian_parameters_for_classes)"
      ],
      "execution_count": null,
      "outputs": []
    },
    {
      "cell_type": "code",
      "metadata": {
        "id": "LFO9FW1znn_u"
      },
      "source": [
        "for i in range(5):\n",
        "  X_train, X_test, y_train, y_test = do_nth_cross_validation(X, y, i)"
      ],
      "execution_count": null,
      "outputs": []
    }
  ]
}