{
  "nbformat": 4,
  "nbformat_minor": 0,
  "metadata": {
    "colab": {
      "name": "MTSwM2.ipynb",
      "provenance": [],
      "collapsed_sections": [],
      "toc_visible": true
    },
    "kernelspec": {
      "name": "python3",
      "display_name": "Python 3"
    }
  },
  "cells": [
    {
      "cell_type": "code",
      "metadata": {
        "id": "9ryxPg4c8vUc",
        "outputId": "2458e13c-c029-40b0-b66a-16d7d76a84a1",
        "colab": {
          "base_uri": "https://localhost:8080/"
        }
      },
      "source": [
        "from google.colab import drive\n",
        "drive.mount('/content/drive')"
      ],
      "execution_count": 1,
      "outputs": [
        {
          "output_type": "stream",
          "text": [
            "Drive already mounted at /content/drive; to attempt to forcibly remount, call drive.mount(\"/content/drive\", force_remount=True).\n"
          ],
          "name": "stdout"
        }
      ]
    },
    {
      "cell_type": "code",
      "metadata": {
        "id": "uSxYdNWPgU19"
      },
      "source": [
        "import math\n",
        "import numpy as np\n",
        "import matplotlib.pyplot as plt\n",
        "import matplotlib as mpl\n",
        "import pandas as pd\n",
        "from sklearn.feature_selection import chi2\n",
        "from sklearn.feature_selection import SelectKBest\n",
        "from sklearn.model_selection import train_test_split\n",
        "from sklearn.model_selection import RepeatedKFold\n",
        "from sklearn.metrics import accuracy_score\n",
        "from sklearn.naive_bayes import GaussianNB"
      ],
      "execution_count": 12,
      "outputs": []
    },
    {
      "cell_type": "code",
      "metadata": {
        "id": "KD1unSx30uS-"
      },
      "source": [
        "def get_data(filename):\n",
        "  file = np.genfromtxt(filename, dtype='int32', delimiter=',')\n",
        "  row_mask = (file != -1).all(axis=1) #usunięcie próbek z wartościami -1 (brak wartości pewnej cechy w datasecie)\n",
        "  file = file[row_mask, :]\n",
        "  return file"
      ],
      "execution_count": 13,
      "outputs": []
    },
    {
      "cell_type": "code",
      "metadata": {
        "id": "T4SxpO7qk-2t"
      },
      "source": [
        "class NaiveBayesClassifier():\n",
        "  def __init__(self):\n",
        "    pass\n",
        "\n",
        "  # liczymy prawdopodobienstwa a priori klas\n",
        "  def calculate_prior(self, y_train):\n",
        "    self.labels, self.counts = np.unique(y_train, return_counts=True)\n",
        "    probabilities = self.counts / np.sum(self.counts)\n",
        "    self.prior_probs = dict(zip(self.labels, probabilities))\n",
        "\n",
        "  # liczymy parametry rozkładów w klasach\n",
        "  def calculate_gaussian_parameters(self, X_train, y_train):\n",
        "    self.gauss_params = {}\n",
        "    num_of_features = X_train.shape[1]\n",
        "    for label in self.labels:\n",
        "      mean_std_for_features = []\n",
        "      for i in range(num_of_features):\n",
        "        class_indices = np.where(y_train == label)[0]\n",
        "        feature_values_for_class = X_train[class_indices, i]\n",
        "        mean_std_tuple = np.mean(feature_values_for_class), np.std(feature_values_for_class)\n",
        "        mean_std_for_features.append(mean_std_tuple)\n",
        "      self.gauss_params[label] = mean_std_for_features\n",
        "  \n",
        "  # dopasowanie modelu do danych treningowych\n",
        "  def fit(self, X_train, y_train):\n",
        "    self.calculate_prior(y_train)\n",
        "    self.calculate_gaussian_parameters(X_train, y_train)\n",
        "\n",
        "  def predict(self, X_test):\n",
        "    num_of_samples = X_test.shape[0]\n",
        "    num_of_features = X_test.shape[1]\n",
        "    self.predicted_labels = np.zeros(num_of_samples)\n",
        "    for number, sample in enumerate(X_test):\n",
        "      prediction = self.labels[0]\n",
        "      MAP_value = float('-inf')\n",
        "      for label in self.labels:\n",
        "        Bayes_log_sum = np.log(self.prior_probs[label])\n",
        "        for i in range(num_of_features):\n",
        "          x=sample[i]\n",
        "          mean=self.gauss_params[label][i][0]\n",
        "          std=self.gauss_params[label][i][1]\n",
        "          Bayes_log_sum += -0.5*((x-mean)/std)**2 + np.log(1/(std * np.sqrt(2*np.pi)))\n",
        "        \n",
        "        if(Bayes_log_sum > MAP_value):\n",
        "          MAP_value = Bayes_log_sum\n",
        "          prediction = label\n",
        "      \n",
        "      self.predicted_labels[number] = prediction\n",
        "    \n",
        "    return self.predicted_labels"
      ],
      "execution_count": 17,
      "outputs": []
    },
    {
      "cell_type": "code",
      "metadata": {
        "id": "M9YY0kaMhx5N",
        "outputId": "a3df31d9-5b7e-4805-aea9-68a979ce9f29",
        "colab": {
          "base_uri": "https://localhost:8080/"
        }
      },
      "source": [
        "data = get_data(\"/content/drive/My Drive/Colab Notebooks/breast-cancer-wisconsin.txt\")\n",
        "X = data[:, 1:10] # macierz cech, bez id i klas\n",
        "y = data[:, 10]   # wektor klas\n",
        "\n",
        "# statystyki chi2 dla zbioru danych\n",
        "chi2vals, pvals = chi2(X, y) \n",
        "print(chi2vals)\n",
        "\n",
        "\n",
        "# porównanie zaimplementowanego klasyfikatora z bibliotecznym\n",
        "X_new  = SelectKBest(chi2, 5).fit_transform(X, y)\n",
        "X_train, X_test, y_train, y_test = do_nth_cross_validation(X_new, y, 7)\n",
        "\n",
        "NBC = NaiveBayesClassifier()\n",
        "NBC.fit(X_train, y_train)\n",
        "prediction = NBC.predict(X_test)\n",
        "print(accuracy_score(y_test, prediction))\n",
        "\n",
        "clf = GaussianNB()\n",
        "clf.fit(X_train, y_train)\n",
        "library_prediction = clf.predict(X_test)\n",
        "print(accuracy_score(y_test, library_predict))\n",
        "\n",
        "\n",
        "#eksperymenty\n",
        "scores_for_diff_num_of_features = []\n",
        "for k in range(1, 10):\n",
        "  X_k = SelectKBest(chi2, k).fit_transform(X, y) # wybór liczby badanych cech\n",
        "  rkf = RepeatedKFold(n_splits=2, n_repeats=5, random_state=2147483647)\n",
        "  scores = []\n",
        "  for train_index, test_index in rkf.split(X_k):\n",
        "    X_train, X_test = X_k[train_index], X_k[test_index]\n",
        "    y_train, y_test = y[train_index], y[test_index]\n",
        "    NBC.fit(X_train, y_train)\n",
        "    prediction = NBC.predict(X_test)\n",
        "    scores.append(accuracy_score(y_test, prediction))\n",
        "\n",
        "  scores_for_diff_num_of_features.append([np.round(np.mean(scores), 3), np.round(np.std(scores), 3)])"
      ],
      "execution_count": 27,
      "outputs": [
        {
          "output_type": "stream",
          "text": [
            "[ 624.13570418 1370.06458731 1279.76770412  986.41787922  497.53676321\n",
            " 1729.0661744   682.97823856 1143.8667119   228.99434634]\n",
            "0.9649122807017544\n",
            "0.9649122807017544\n"
          ],
          "name": "stdout"
        }
      ]
    },
    {
      "cell_type": "code",
      "metadata": {
        "id": "hioEaxvTPFc3",
        "outputId": "8dd5bacc-bab3-4e78-bed0-f9a7b30e22f7",
        "colab": {
          "base_uri": "https://localhost:8080/"
        }
      },
      "source": [
        "print(np.array(scores_for_diff_num_of_features))"
      ],
      "execution_count": 28,
      "outputs": [
        {
          "output_type": "stream",
          "text": [
            "[[0.909 0.01 ]\n",
            " [0.959 0.009]\n",
            " [0.964 0.006]\n",
            " [0.96  0.005]\n",
            " [0.959 0.008]\n",
            " [0.96  0.007]\n",
            " [0.967 0.008]\n",
            " [0.965 0.008]\n",
            " [0.963 0.007]]\n"
          ],
          "name": "stdout"
        }
      ]
    },
    {
      "cell_type": "code",
      "metadata": {
        "id": "x9wTnqgQjMvW"
      },
      "source": [
        ""
      ],
      "execution_count": null,
      "outputs": []
    }
  ]
}